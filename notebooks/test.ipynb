{
 "cells": [
  {
   "cell_type": "code",
   "execution_count": 3,
   "id": "f5441b0c",
   "metadata": {},
   "outputs": [],
   "source": [
    "import requests\n",
    "import json\n",
    "import pandas as pd\n",
    "import numpy as np"
   ]
  },
  {
   "cell_type": "code",
   "execution_count": 4,
   "id": "7d88e7fc",
   "metadata": {},
   "outputs": [],
   "source": [
    "title_url = \"https://data-dbg.krx.co.kr/svc/apis\"\n",
    "auth_key = \"FE237788B42B47D8819FE2DE085AB85052DD11B9\"\n",
    "max_rows=10000\n",
    "data_type='json'\n",
    "basDd=\"20240125\"\n",
    "\n",
    "headers = {\n",
    "    'AUTH_KEY': auth_key  # sample auth key\n",
    "}"
   ]
  },
  {
   "cell_type": "markdown",
   "id": "4eab79d0",
   "metadata": {},
   "source": [
    "# 1. 지수"
   ]
  },
  {
   "cell_type": "code",
   "execution_count": 5,
   "id": "4572ca2c",
   "metadata": {},
   "outputs": [],
   "source": [
    "sub_url = 'idx'"
   ]
  },
  {
   "cell_type": "markdown",
   "id": "a3c4a6f8",
   "metadata": {},
   "source": [
    "## [1] KOSPI"
   ]
  },
  {
   "cell_type": "code",
   "execution_count": 6,
   "id": "2deadd78",
   "metadata": {},
   "outputs": [],
   "source": [
    "detail_url = 'kospi_dd_trd'"
   ]
  },
  {
   "cell_type": "code",
   "execution_count": 7,
   "id": "c1e255fc",
   "metadata": {},
   "outputs": [],
   "source": [
    "if not requests.get(f'{title_url}/{sub_url}/{detail_url}?basDd={basDd}', headers = headers).ok:\n",
    "    raise Exception()"
   ]
  },
  {
   "cell_type": "code",
   "execution_count": 29,
   "id": "ca10d78a",
   "metadata": {},
   "outputs": [
    {
     "data": {
      "text/plain": [
       "'{\"OutBlock_1\":[]}'"
      ]
     },
     "execution_count": 29,
     "metadata": {},
     "output_type": "execute_result"
    }
   ],
   "source": [
    "requests.get(f'{title_url}/{sub_url}/{detail_url}?basDd=20001018', headers = headers).text"
   ]
  },
  {
   "cell_type": "code",
   "execution_count": 81,
   "id": "8b235a5f-a83b-4293-a594-b0a685560270",
   "metadata": {},
   "outputs": [
    {
     "data": {
      "text/plain": [
       "0"
      ]
     },
     "execution_count": 81,
     "metadata": {},
     "output_type": "execute_result"
    }
   ],
   "source": [
    "from datetime import datetime\n",
    "days = '20100104'\n",
    "datetime.strptime(days, '%Y%m%d').weekday()"
   ]
  },
  {
   "cell_type": "code",
   "execution_count": 82,
   "id": "c428b913",
   "metadata": {},
   "outputs": [
    {
     "data": {
      "text/plain": [
       "'{\"OutBlock_1\":[{\"BAS_DD\":\"20100104\",\"IDX_CLSS\":\"KOSPI\",\"IDX_NM\":\"코스피 (외국주포함)\",\"CLSPRC_IDX\":\"-\",\"CMPPREVDD_IDX\":\"-\",\"FLUC_RT\":\"-\",\"OPNPRC_IDX\":\"-\",\"HGPRC_IDX\":\"-\",\"LWPRC_IDX\":\"-\",\"ACC_TRDVOL\":\"296547959\",\"ACC_TRDVAL\":\"4364595613797\",\"MKTCAP\":\"894731590862430\"},{\"BAS_DD\":\"20100104\",\"IDX_CLSS\":\"KOSPI\",\"IDX_NM\":\"코스피\",\"CLSPRC_IDX\":\"1696.14\",\"CMPPREVDD_IDX\":\"13.37\",\"FLUC_RT\":\"0.79\",\"OPNPRC_IDX\":\"1681.71\",\"HGPRC_IDX\":\"1696.14\",\"LWPRC_IDX\":\"1681.71\",\"ACC_TRDVOL\":\"295646967\",\"ACC_TRDVAL\":\"4358418151472\",\"MKTCAP\":\"894123953078265\"},{\"BAS_DD\":\"20100104\",\"IDX_CLSS\":\"KOSPI\",\"IDX_NM\":\"코스피 200\",\"CLSPRC_IDX\":\"223.49\",\"CMPPREVDD_IDX\":\"1.63\",\"FLUC_RT\":\"0.73\",\"OPNPRC_IDX\":\"221.67\",\"HGPRC_IDX\":\"223.49\",\"LWPRC_IDX\":\"221.66\",\"ACC_TRDVOL\":\"85967328\",\"ACC_TRDVAL\":\"3523479960477\",\"MKTCAP\":\"777079135448075\"},{\"BAS_DD\":\"20100104\",\"IDX_CLSS\":\"KOSPI\",\"IDX_NM\":\"코스피 100\",\"CLSPRC_IDX\":\"1671.93\",\"CMPPREVDD_IDX\":\"12.68\",\"FLUC_RT\":\"0.76\",\"OPNPRC_IDX\":\"1657.77\",\"HGPRC_IDX\":\"1671.93\",\"LWPRC_IDX\":\"1657.77\",\"ACC_TRDVOL\":\"67244672\",\"ACC_TRDVAL\":\"3334433482382\",\"MKTCAP\":\"737126843004500\"},{\"BAS_DD\":\"20100104\",\"IDX_CLSS\":\"KOSPI\",\"IDX_NM\":\"코스피 50\",\"CLSPRC_IDX\":\"1481.40\",\"CMPPREVDD_IDX\":\"11.39\",\"FLUC_RT\":\"0.77\",\"OPNPRC_IDX\":\"1469.21\",\"HGPRC_IDX\":\"1481.40\",\"LWPRC_IDX\":\"1469.21\",\"ACC_TRDVOL\":\"53163432\",\"ACC_TRDVAL\":\"2663070959482\",\"MKTCAP\":\"611820161751300\"},{\"BAS_DD\":\"20100104\",\"IDX_CLSS\":\"KOSPI\",\"IDX_NM\":\"음식료품\",\"CLSPRC_IDX\":\"2375.41\",\"CMPPREVDD_IDX\":\"-0.36\",\"FLUC_RT\":\"-0.02\",\"OPNPRC_IDX\":\"2376.20\",\"HGPRC_IDX\":\"2384.49\",\"LWPRC_IDX\":\"2361.74\",\"ACC_TRDVOL\":\"2240770\",\"ACC_TRDVAL\":\"49550059545\",\"MKTCAP\":\"16950246149620\"},{\"BAS_DD\":\"20100104\",\"IDX_CLSS\":\"KOSPI\",\"IDX_NM\":\"섬유의복\",\"CLSPRC_IDX\":\"176.24\",\"CMPPREVDD_IDX\":\"1.54\",\"FLUC_RT\":\"0.88\",\"OPNPRC_IDX\":\"174.63\",\"HGPRC_IDX\":\"176.74\",\"LWPRC_IDX\":\"174.59\",\"ACC_TRDVOL\":\"8651882\",\"ACC_TRDVAL\":\"18243172215\",\"MKTCAP\":\"4026119809480\"},{\"BAS_DD\":\"20100104\",\"IDX_CLSS\":\"KOSPI\",\"IDX_NM\":\"종이목재\",\"CLSPRC_IDX\":\"279.42\",\"CMPPREVDD_IDX\":\"-2.20\",\"FLUC_RT\":\"-0.78\",\"OPNPRC_IDX\":\"281.58\",\"HGPRC_IDX\":\"283.16\",\"LWPRC_IDX\":\"278.74\",\"ACC_TRDVOL\":\"6196913\",\"ACC_TRDVAL\":\"12632156820\",\"MKTCAP\":\"2193234906180\"},{\"BAS_DD\":\"20100104\",\"IDX_CLSS\":\"KOSPI\",\"IDX_NM\":\"화학\",\"CLSPRC_IDX\":\"3009.67\",\"CMPPREVDD_IDX\":\"7.96\",\"FLUC_RT\":\"0.27\",\"OPNPRC_IDX\":\"2995.62\",\"HGPRC_IDX\":\"3012.37\",\"LWPRC_IDX\":\"2994.98\",\"ACC_TRDVOL\":\"16142550\",\"ACC_TRDVAL\":\"488384602760\",\"MKTCAP\":\"87834827349165\"},{\"BAS_DD\":\"20100104\",\"IDX_CLSS\":\"KOSPI\",\"IDX_NM\":\"의약품\",\"CLSPRC_IDX\":\"4001.35\",\"CMPPREVDD_IDX\":\"25.30\",\"FLUC_RT\":\"0.64\",\"OPNPRC_IDX\":\"3980.57\",\"HGPRC_IDX\":\"4013.11\",\"LWPRC_IDX\":\"3966.64\",\"ACC_TRDVOL\":\"6324160\",\"ACC_TRDVAL\":\"56266486830\",\"MKTCAP\":\"11360647356140\"},{\"BAS_DD\":\"20100104\",\"IDX_CLSS\":\"KOSPI\",\"IDX_NM\":\"비금속광물\",\"CLSPRC_IDX\":\"778.35\",\"CMPPREVDD_IDX\":\"-1.84\",\"FLUC_RT\":\"-0.24\",\"OPNPRC_IDX\":\"781.40\",\"HGPRC_IDX\":\"785.17\",\"LWPRC_IDX\":\"772.72\",\"ACC_TRDVOL\":\"3610779\",\"ACC_TRDVAL\":\"10897660835\",\"MKTCAP\":\"3845048049595\"},{\"BAS_DD\":\"20100104\",\"IDX_CLSS\":\"KOSPI\",\"IDX_NM\":\"철강금속\",\"CLSPRC_IDX\":\"7202.05\",\"CMPPREVDD_IDX\":\"-24.65\",\"FLUC_RT\":\"-0.34\",\"OPNPRC_IDX\":\"7172.48\",\"HGPRC_IDX\":\"7237.48\",\"LWPRC_IDX\":\"7162.14\",\"ACC_TRDVOL\":\"14960963\",\"ACC_TRDVAL\":\"275436572315\",\"MKTCAP\":\"74495435155810\"},{\"BAS_DD\":\"20100104\",\"IDX_CLSS\":\"KOSPI\",\"IDX_NM\":\"기계\",\"CLSPRC_IDX\":\"1286.18\",\"CMPPREVDD_IDX\":\"11.87\",\"FLUC_RT\":\"0.93\",\"OPNPRC_IDX\":\"1269.90\",\"HGPRC_IDX\":\"1293.37\",\"LWPRC_IDX\":\"1261.33\",\"ACC_TRDVOL\":\"9335041\",\"ACC_TRDVAL\":\"163066158430\",\"MKTCAP\":\"17254286453175\"},{\"BAS_DD\":\"20100104\",\"IDX_CLSS\":\"KOSPI\",\"IDX_NM\":\"전기전자\",\"CLSPRC_IDX\":\"7965.33\",\"CMPPREVDD_IDX\":\"149.15\",\"FLUC_RT\":\"1.91\",\"OPNPRC_IDX\":\"7840.24\",\"HGPRC_IDX\":\"7965.33\",\"LWPRC_IDX\":\"7840.24\",\"ACC_TRDVOL\":\"102900157\",\"ACC_TRDVAL\":\"913328350642\",\"MKTCAP\":\"205422662332500\"},{\"BAS_DD\":\"20100104\",\"IDX_CLSS\":\"KOSPI\",\"IDX_NM\":\"의료정밀\",\"CLSPRC_IDX\":\"1975.36\",\"CMPPREVDD_IDX\":\"9.85\",\"FLUC_RT\":\"0.50\",\"OPNPRC_IDX\":\"1964.07\",\"HGPRC_IDX\":\"1977.52\",\"LWPRC_IDX\":\"1946.59\",\"ACC_TRDVOL\":\"4349091\",\"ACC_TRDVAL\":\"60384992655\",\"MKTCAP\":\"6257859999415\"},{\"BAS_DD\":\"20100104\",\"IDX_CLSS\":\"KOSPI\",\"IDX_NM\":\"운수장비\",\"CLSPRC_IDX\":\"1431.20\",\"CMPPREVDD_IDX\":\"-7.27\",\"FLUC_RT\":\"-0.51\",\"OPNPRC_IDX\":\"1431.91\",\"HGPRC_IDX\":\"1437.48\",\"LWPRC_IDX\":\"1419.09\",\"ACC_TRDVOL\":\"16077325\",\"ACC_TRDVAL\":\"450665421740\",\"MKTCAP\":\"83133648811380\"},{\"BAS_DD\":\"20100104\",\"IDX_CLSS\":\"KOSPI\",\"IDX_NM\":\"유통업\",\"CLSPRC_IDX\":\"449.72\",\"CMPPREVDD_IDX\":\"6.37\",\"FLUC_RT\":\"1.44\",\"OPNPRC_IDX\":\"444.40\",\"HGPRC_IDX\":\"449.72\",\"LWPRC_IDX\":\"443.53\",\"ACC_TRDVOL\":\"19540872\",\"ACC_TRDVAL\":\"266601916520\",\"MKTCAP\":\"47422689895780\"},{\"BAS_DD\":\"20100104\",\"IDX_CLSS\":\"KOSPI\",\"IDX_NM\":\"전기가스업\",\"CLSPRC_IDX\":\"1058.30\",\"CMPPREVDD_IDX\":\"-0.04\",\"FLUC_RT\":\"0.00\",\"OPNPRC_IDX\":\"1052.02\",\"HGPRC_IDX\":\"1061.16\",\"LWPRC_IDX\":\"1050.79\",\"ACC_TRDVOL\":\"2231643\",\"ACC_TRDVAL\":\"80194024960\",\"MKTCAP\":\"27477243731580\"},{\"BAS_DD\":\"20100104\",\"IDX_CLSS\":\"KOSPI\",\"IDX_NM\":\"건설업\",\"CLSPRC_IDX\":\"227.44\",\"CMPPREVDD_IDX\":\"0.77\",\"FLUC_RT\":\"0.34\",\"OPNPRC_IDX\":\"228.11\",\"HGPRC_IDX\":\"228.51\",\"LWPRC_IDX\":\"226.24\",\"ACC_TRDVOL\":\"10910123\",\"ACC_TRDVAL\":\"227712932125\",\"MKTCAP\":\"30185684303890\"},{\"BAS_DD\":\"20100104\",\"IDX_CLSS\":\"KOSPI\",\"IDX_NM\":\"운수창고업\",\"CLSPRC_IDX\":\"2247.75\",\"CMPPREVDD_IDX\":\"-16.86\",\"FLUC_RT\":\"-0.74\",\"OPNPRC_IDX\":\"2250.76\",\"HGPRC_IDX\":\"2260.18\",\"LWPRC_IDX\":\"2225.53\",\"ACC_TRDVOL\":\"9133157\",\"ACC_TRDVAL\":\"147272978775\",\"MKTCAP\":\"19432696468145\"},{\"BAS_DD\":\"20100104\",\"IDX_CLSS\":\"KOSPI\",\"IDX_NM\":\"통신업\",\"CLSPRC_IDX\":\"294.48\",\"CMPPREVDD_IDX\":\"0.81\",\"FLUC_RT\":\"0.28\",\"OPNPRC_IDX\":\"293.86\",\"HGPRC_IDX\":\"294.48\",\"LWPRC_IDX\":\"292.67\",\"ACC_TRDVOL\":\"1810686\",\"ACC_TRDVAL\":\"63305270090\",\"MKTCAP\":\"28623264370400\"},{\"BAS_DD\":\"20100104\",\"IDX_CLSS\":\"KOSPI\",\"IDX_NM\":\"금융업\",\"CLSPRC_IDX\":\"517.67\",\"CMPPREVDD_IDX\":\"8.54\",\"FLUC_RT\":\"1.68\",\"OPNPRC_IDX\":\"510.10\",\"HGPRC_IDX\":\"517.67\",\"LWPRC_IDX\":\"510.10\",\"ACC_TRDVOL\":\"38294533\",\"ACC_TRDVAL\":\"632354743645\",\"MKTCAP\":\"143263155322020\"},{\"BAS_DD\":\"20100104\",\"IDX_CLSS\":\"KOSPI\",\"IDX_NM\":\"증권\",\"CLSPRC_IDX\":\"2810.55\",\"CMPPREVDD_IDX\":\"125.11\",\"FLUC_RT\":\"4.66\",\"OPNPRC_IDX\":\"2705.29\",\"HGPRC_IDX\":\"2810.55\",\"LWPRC_IDX\":\"2705.29\",\"ACC_TRDVOL\":\"20487701\",\"ACC_TRDVAL\":\"218206037685\",\"MKTCAP\":\"26046053157325\"},{\"BAS_DD\":\"20100104\",\"IDX_CLSS\":\"KOSPI\",\"IDX_NM\":\"보험\",\"CLSPRC_IDX\":\"18081.53\",\"CMPPREVDD_IDX\":\"485.10\",\"FLUC_RT\":\"2.76\",\"OPNPRC_IDX\":\"17558.05\",\"HGPRC_IDX\":\"18081.53\",\"LWPRC_IDX\":\"17542.59\",\"ACC_TRDVOL\":\"4770870\",\"ACC_TRDVAL\":\"125216463880\",\"MKTCAP\":\"20397872831160\"},{\"BAS_DD\":\"20100104\",\"IDX_CLSS\":\"KOSPI\",\"IDX_NM\":\"서비스업\",\"CLSPRC_IDX\":\"763.45\",\"CMPPREVDD_IDX\":\"3.68\",\"FLUC_RT\":\"0.48\",\"OPNPRC_IDX\":\"756.69\",\"HGPRC_IDX\":\"763.45\",\"LWPRC_IDX\":\"755.26\",\"ACC_TRDVOL\":\"21246140\",\"ACC_TRDVAL\":\"420627608425\",\"MKTCAP\":\"73782409581105\"},{\"BAS_DD\":\"20100104\",\"IDX_CLSS\":\"KOSPI\",\"IDX_NM\":\"제조업\",\"CLSPRC_IDX\":\"3179.42\",\"CMPPREVDD_IDX\":\"21.87\",\"FLUC_RT\":\"0.69\",\"OPNPRC_IDX\":\"3154.16\",\"HGPRC_IDX\":\"3179.44\",\"LWPRC_IDX\":\"3152.17\",\"ACC_TRDVOL\":\"192147138\",\"ACC_TRDVAL\":\"2517911720222\",\"MKTCAP\":\"522428740833320\"},{\"BAS_DD\":\"20100104\",\"IDX_CLSS\":\"KOSPI\",\"IDX_NM\":\"코스피 대형주\",\"CLSPRC_IDX\":\"1657.56\",\"CMPPREVDD_IDX\":\"13.74\",\"FLUC_RT\":\"0.84\",\"OPNPRC_IDX\":\"1642.86\",\"HGPRC_IDX\":\"1657.56\",\"LWPRC_IDX\":\"1642.86\",\"ACC_TRDVOL\":\"68764877\",\"ACC_TRDVAL\":\"3371338853447\",\"MKTCAP\":\"739271241538115\"},{\"BAS_DD\":\"20100104\",\"IDX_CLSS\":\"KOSPI\",\"IDX_NM\":\"코스피 중형주\",\"CLSPRC_IDX\":\"1994.21\",\"CMPPREVDD_IDX\":\"7.61\",\"FLUC_RT\":\"0.38\",\"OPNPRC_IDX\":\"1983.88\",\"HGPRC_IDX\":\"1994.21\",\"LWPRC_IDX\":\"1981.32\",\"ACC_TRDVOL\":\"50290595\",\"ACC_TRDVAL\":\"467535800380\",\"MKTCAP\":\"91079204629065\"},{\"BAS_DD\":\"20100104\",\"IDX_CLSS\":\"KOSPI\",\"IDX_NM\":\"코스피 소형주\",\"CLSPRC_IDX\":\"1169.87\",\"CMPPREVDD_IDX\":\"7.92\",\"FLUC_RT\":\"0.68\",\"OPNPRC_IDX\":\"1164.61\",\"HGPRC_IDX\":\"1170.16\",\"LWPRC_IDX\":\"1164.06\",\"ACC_TRDVOL\":\"163180587\",\"ACC_TRDVAL\":\"235841259930\",\"MKTCAP\":\"27029073044410\"}]}'"
      ]
     },
     "execution_count": 82,
     "metadata": {},
     "output_type": "execute_result"
    }
   ],
   "source": [
    "requests.get(f'{title_url}/{sub_url}/{detail_url}?basDd={days}', headers = headers).text"
   ]
  },
  {
   "cell_type": "markdown",
   "id": "d0fb6656",
   "metadata": {},
   "source": [
    "## [2] KOSDAQ"
   ]
  },
  {
   "cell_type": "code",
   "execution_count": 18,
   "id": "0d4b9ff1",
   "metadata": {},
   "outputs": [],
   "source": [
    "detail_url = 'kosdaq_dd_trd'"
   ]
  },
  {
   "cell_type": "code",
   "execution_count": 19,
   "id": "2a19477b",
   "metadata": {},
   "outputs": [],
   "source": [
    "if not requests.get(f'{title_url}/{sub_url}/{detail_url}?basDd={basDd}', headers = headers).ok:\n",
    "    raise Exception()"
   ]
  },
  {
   "cell_type": "markdown",
   "id": "5dd56791",
   "metadata": {},
   "source": [
    "## [3] KONEX"
   ]
  },
  {
   "cell_type": "code",
   "execution_count": 21,
   "id": "971f3ba5",
   "metadata": {},
   "outputs": [],
   "source": [
    "detail_url = 'krx_dd_trd'"
   ]
  },
  {
   "cell_type": "code",
   "execution_count": 22,
   "id": "85e08f93",
   "metadata": {},
   "outputs": [],
   "source": [
    "if not requests.get(f'{title_url}/{sub_url}/{detail_url}?basDd={basDd}', headers = headers).ok:\n",
    "    raise Exception()"
   ]
  },
  {
   "cell_type": "markdown",
   "id": "d6eea1eb",
   "metadata": {},
   "source": [
    "## [4] 채권지수"
   ]
  },
  {
   "cell_type": "code",
   "execution_count": 4,
   "id": "36a4cfd5",
   "metadata": {},
   "outputs": [],
   "source": [
    "detail_url = 'bon_dd_trd'"
   ]
  },
  {
   "cell_type": "code",
   "execution_count": null,
   "id": "04edd003",
   "metadata": {},
   "outputs": [],
   "source": [
    "if not requests.get(f'{title_url}/{sub_url}/{detail_url}?basDd={basDd}', headers = headers).ok:\n",
    "    raise Exception()"
   ]
  },
  {
   "cell_type": "markdown",
   "id": "733e6c87",
   "metadata": {},
   "source": [
    "## [5] 파생상품지수"
   ]
  },
  {
   "cell_type": "code",
   "execution_count": 6,
   "id": "324c6b0b",
   "metadata": {},
   "outputs": [],
   "source": [
    "detail_url = 'drvprod_dd_trd'"
   ]
  },
  {
   "cell_type": "code",
   "execution_count": 22,
   "id": "4d86f409",
   "metadata": {},
   "outputs": [],
   "source": [
    "if not requests.get(f'{title_url}/{sub_url}/{detail_url}?basDd={basDd}', headers = headers).ok:\n",
    "    raise Exception()"
   ]
  },
  {
   "cell_type": "markdown",
   "id": "4d538a75",
   "metadata": {},
   "source": [
    "- - -"
   ]
  },
  {
   "cell_type": "markdown",
   "id": "88b28965",
   "metadata": {},
   "source": [
    "# 2. 주식"
   ]
  },
  {
   "cell_type": "code",
   "execution_count": 24,
   "id": "ac53b194",
   "metadata": {},
   "outputs": [],
   "source": [
    "sub_url = 'sto'"
   ]
  },
  {
   "cell_type": "markdown",
   "id": "793a56f0",
   "metadata": {},
   "source": [
    "## [1] KOSPI"
   ]
  },
  {
   "cell_type": "code",
   "execution_count": 25,
   "id": "10014824",
   "metadata": {},
   "outputs": [],
   "source": [
    "detail_url = 'stk_bydd_trd'"
   ]
  },
  {
   "cell_type": "code",
   "execution_count": 26,
   "id": "65d34111",
   "metadata": {},
   "outputs": [],
   "source": [
    "if not requests.get(f'{title_url}/{sub_url}/{detail_url}.{data_type}?basDd={basDd}', headers = headers).ok:\n",
    "    raise Exception()"
   ]
  },
  {
   "cell_type": "markdown",
   "id": "60818e0c",
   "metadata": {},
   "source": [
    "## [2] KOSDAQ"
   ]
  },
  {
   "cell_type": "code",
   "execution_count": 23,
   "id": "01d4b80f",
   "metadata": {},
   "outputs": [],
   "source": [
    "detail_url = 'ksq_bydd_trd'"
   ]
  },
  {
   "cell_type": "code",
   "execution_count": 111,
   "id": "0f29c7b4",
   "metadata": {},
   "outputs": [
    {
     "ename": "Exception",
     "evalue": "",
     "output_type": "error",
     "traceback": [
      "\u001b[1;31m---------------------------------------------------------------------------\u001b[0m",
      "\u001b[1;31mException\u001b[0m                                 Traceback (most recent call last)",
      "Cell \u001b[1;32mIn[111], line 2\u001b[0m\n\u001b[0;32m      1\u001b[0m \u001b[38;5;28;01mif\u001b[39;00m \u001b[38;5;129;01mnot\u001b[39;00m requests\u001b[38;5;241m.\u001b[39mget(\u001b[38;5;124mf\u001b[39m\u001b[38;5;124m'\u001b[39m\u001b[38;5;132;01m{\u001b[39;00mtitle_url\u001b[38;5;132;01m}\u001b[39;00m\u001b[38;5;124m/\u001b[39m\u001b[38;5;132;01m{\u001b[39;00msub_url\u001b[38;5;132;01m}\u001b[39;00m\u001b[38;5;124m/\u001b[39m\u001b[38;5;132;01m{\u001b[39;00mdetail_url\u001b[38;5;132;01m}\u001b[39;00m\u001b[38;5;124m.\u001b[39m\u001b[38;5;132;01m{\u001b[39;00mdata_type\u001b[38;5;132;01m}\u001b[39;00m\u001b[38;5;124m?basDd=\u001b[39m\u001b[38;5;132;01m{\u001b[39;00mbasDd\u001b[38;5;132;01m}\u001b[39;00m\u001b[38;5;124m'\u001b[39m, headers \u001b[38;5;241m=\u001b[39m headers)\u001b[38;5;241m.\u001b[39mok:\n\u001b[1;32m----> 2\u001b[0m     \u001b[38;5;28;01mraise\u001b[39;00m \u001b[38;5;167;01mException\u001b[39;00m()\n",
      "\u001b[1;31mException\u001b[0m: "
     ]
    }
   ],
   "source": [
    "if not requests.get(f'{title_url}/{sub_url}/{detail_url}.{data_type}?basDd={basDd}', headers = headers).ok:\n",
    "    raise Exception()"
   ]
  },
  {
   "cell_type": "markdown",
   "id": "02ab6e71",
   "metadata": {},
   "source": [
    "## [3] KONEX"
   ]
  },
  {
   "cell_type": "code",
   "execution_count": 27,
   "id": "edf0dd88",
   "metadata": {},
   "outputs": [],
   "source": [
    "detail_url = 'knx_bydd_trd'"
   ]
  },
  {
   "cell_type": "code",
   "execution_count": 28,
   "id": "242f76b5",
   "metadata": {},
   "outputs": [],
   "source": [
    "if not requests.get(f'{title_url}/{sub_url}/{detail_url}.{data_type}?basDd={basDd}', headers = headers).ok:\n",
    "    raise Exception()"
   ]
  },
  {
   "cell_type": "markdown",
   "id": "c5752cd5",
   "metadata": {},
   "source": [
    "## [4] 신주인수권증권"
   ]
  },
  {
   "cell_type": "code",
   "execution_count": 30,
   "id": "e5ad233c",
   "metadata": {},
   "outputs": [],
   "source": [
    "detail_url = 'sw_bydd_trd'"
   ]
  },
  {
   "cell_type": "code",
   "execution_count": 31,
   "id": "3e75bba6",
   "metadata": {},
   "outputs": [],
   "source": [
    "if not requests.get(f'{title_url}/{sub_url}/{detail_url}.{data_type}?basDd={basDd}', headers = headers).ok:\n",
    "    raise Exception()"
   ]
  },
  {
   "cell_type": "markdown",
   "id": "0617d327",
   "metadata": {},
   "source": [
    "## [5] 신주인수권증서"
   ]
  },
  {
   "cell_type": "code",
   "execution_count": 33,
   "id": "c6e072b4",
   "metadata": {},
   "outputs": [],
   "source": [
    "detail_url = 'sr_bydd_trd'"
   ]
  },
  {
   "cell_type": "code",
   "execution_count": 34,
   "id": "72da580e",
   "metadata": {},
   "outputs": [],
   "source": [
    "if not requests.get(f'{title_url}/{sub_url}/{detail_url}.{data_type}?basDd={basDd}', headers = headers).ok:\n",
    "    raise Exception()"
   ]
  },
  {
   "cell_type": "markdown",
   "id": "a57dbf94",
   "metadata": {},
   "source": [
    "## [6] KOSPI 종목정보"
   ]
  },
  {
   "cell_type": "code",
   "execution_count": 36,
   "id": "7e20396b",
   "metadata": {},
   "outputs": [],
   "source": [
    "detail_url = 'stk_isu_base_info'"
   ]
  },
  {
   "cell_type": "code",
   "execution_count": 37,
   "id": "7955c957",
   "metadata": {},
   "outputs": [],
   "source": [
    "if not requests.get(f'{title_url}/{sub_url}/{detail_url}.{data_type}?basDd={basDd}', headers = headers).ok:\n",
    "    raise Exception()"
   ]
  },
  {
   "cell_type": "markdown",
   "id": "48e9b456",
   "metadata": {},
   "source": [
    "## [7] KOSDAQ 종목정보"
   ]
  },
  {
   "cell_type": "code",
   "execution_count": 39,
   "id": "99e34dec",
   "metadata": {},
   "outputs": [],
   "source": [
    "detail_url = 'ksq_isu_base_info'"
   ]
  },
  {
   "cell_type": "code",
   "execution_count": 40,
   "id": "187dad57",
   "metadata": {},
   "outputs": [],
   "source": [
    "if not requests.get(f'{title_url}/{sub_url}/{detail_url}.{data_type}?basDd={basDd}', headers = headers).ok:\n",
    "    raise Exception()"
   ]
  },
  {
   "cell_type": "markdown",
   "id": "79efab65",
   "metadata": {},
   "source": [
    "## [8] KONEX 종목정보"
   ]
  },
  {
   "cell_type": "code",
   "execution_count": 53,
   "id": "26089d7a",
   "metadata": {},
   "outputs": [],
   "source": [
    "detail_url = 'knx_isu_base_info'"
   ]
  },
  {
   "cell_type": "code",
   "execution_count": 54,
   "id": "175686a5",
   "metadata": {},
   "outputs": [],
   "source": [
    "if not requests.get(f'{title_url}/{sub_url}/{detail_url}.{data_type}?basDd={basDd}', headers = headers).ok:\n",
    "    raise Exception()"
   ]
  },
  {
   "cell_type": "markdown",
   "id": "1b0b6872",
   "metadata": {},
   "source": [
    "- - -"
   ]
  },
  {
   "cell_type": "markdown",
   "id": "d97b9f20",
   "metadata": {},
   "source": [
    "# 3. 증권상품 일별매매"
   ]
  },
  {
   "cell_type": "code",
   "execution_count": 79,
   "id": "1f4e5f85",
   "metadata": {},
   "outputs": [],
   "source": [
    "sub_url = 'etp'"
   ]
  },
  {
   "cell_type": "markdown",
   "id": "df28e70e",
   "metadata": {},
   "source": [
    "## [1] ETF"
   ]
  },
  {
   "cell_type": "code",
   "execution_count": 57,
   "id": "36a87c16",
   "metadata": {},
   "outputs": [],
   "source": [
    "detail_url = 'etf_bydd_trd'"
   ]
  },
  {
   "cell_type": "code",
   "execution_count": 58,
   "id": "bf5a3df7",
   "metadata": {},
   "outputs": [],
   "source": [
    "if not requests.get(f'{title_url}/{sub_url}/{detail_url}.{data_type}?basDd={basDd}', headers = headers).ok:\n",
    "    raise Exception()"
   ]
  },
  {
   "cell_type": "markdown",
   "id": "e3eab3d8",
   "metadata": {},
   "source": [
    "## [2] ETN"
   ]
  },
  {
   "cell_type": "code",
   "execution_count": 60,
   "id": "7511a638",
   "metadata": {},
   "outputs": [],
   "source": [
    "detail_url = 'etn_bydd_trd'"
   ]
  },
  {
   "cell_type": "code",
   "execution_count": 61,
   "id": "28c2c649",
   "metadata": {},
   "outputs": [],
   "source": [
    "if not requests.get(f'{title_url}/{sub_url}/{detail_url}.{data_type}?basDd={basDd}', headers = headers).ok:\n",
    "    raise Exception()"
   ]
  },
  {
   "cell_type": "markdown",
   "id": "4fbc871a",
   "metadata": {},
   "source": [
    "## [3] ELW"
   ]
  },
  {
   "cell_type": "code",
   "execution_count": 80,
   "id": "9b29d173",
   "metadata": {},
   "outputs": [],
   "source": [
    "detail_url = 'elw_bydd_trd'"
   ]
  },
  {
   "cell_type": "code",
   "execution_count": 81,
   "id": "d21703fb",
   "metadata": {},
   "outputs": [],
   "source": [
    "if not requests.get(f'{title_url}/{sub_url}/{detail_url}.{data_type}?basDd={basDd}', headers = headers).ok:\n",
    "    raise Exception()"
   ]
  },
  {
   "cell_type": "markdown",
   "id": "172c4994",
   "metadata": {},
   "source": [
    "- - -"
   ]
  },
  {
   "cell_type": "markdown",
   "id": "3e1a8052",
   "metadata": {},
   "source": [
    "# 4. 채권"
   ]
  },
  {
   "cell_type": "code",
   "execution_count": 84,
   "id": "e7dda3a0",
   "metadata": {},
   "outputs": [],
   "source": [
    "sub_url = 'bon'"
   ]
  },
  {
   "cell_type": "markdown",
   "id": "38cac4ce",
   "metadata": {},
   "source": [
    "## [1] 국채"
   ]
  },
  {
   "cell_type": "code",
   "execution_count": 89,
   "id": "0cc4a04d",
   "metadata": {},
   "outputs": [],
   "source": [
    "detail_url = 'kts_bydd_trd'"
   ]
  },
  {
   "cell_type": "code",
   "execution_count": 90,
   "id": "377ef435",
   "metadata": {},
   "outputs": [],
   "source": [
    "if not requests.get(f'{title_url}/{sub_url}/{detail_url}.{data_type}?basDd={basDd}', headers = headers).ok:\n",
    "    raise Exception()"
   ]
  },
  {
   "cell_type": "markdown",
   "id": "7a73dd08",
   "metadata": {},
   "source": [
    "## [2] 일반채"
   ]
  },
  {
   "cell_type": "code",
   "execution_count": 93,
   "id": "a4a6fccd",
   "metadata": {},
   "outputs": [],
   "source": [
    "detail_url = 'bnd_bydd_trd'"
   ]
  },
  {
   "cell_type": "code",
   "execution_count": 94,
   "id": "8c7b928e",
   "metadata": {},
   "outputs": [],
   "source": [
    "if not requests.get(f'{title_url}/{sub_url}/{detail_url}.{data_type}?basDd={basDd}', headers = headers).ok:\n",
    "    raise Exception()"
   ]
  },
  {
   "cell_type": "markdown",
   "id": "598264e5",
   "metadata": {},
   "source": [
    "## [3] 소액채"
   ]
  },
  {
   "cell_type": "code",
   "execution_count": 96,
   "id": "1f4d7afe",
   "metadata": {},
   "outputs": [],
   "source": [
    "detail_url = 'smb_bydd_trd'"
   ]
  },
  {
   "cell_type": "code",
   "execution_count": 97,
   "id": "b2141bcc",
   "metadata": {},
   "outputs": [],
   "source": [
    "if not requests.get(f'{title_url}/{sub_url}/{detail_url}.{data_type}?basDd={basDd}', headers = headers).ok:\n",
    "    raise Exception()"
   ]
  },
  {
   "cell_type": "markdown",
   "id": "1debdb34",
   "metadata": {},
   "source": [
    "- - -"
   ]
  },
  {
   "cell_type": "markdown",
   "id": "8c4d0040",
   "metadata": {},
   "source": [
    "# 5. 파생상품"
   ]
  },
  {
   "cell_type": "code",
   "execution_count": 99,
   "id": "b3a989ee",
   "metadata": {},
   "outputs": [],
   "source": [
    "sub_url = 'drv'"
   ]
  },
  {
   "cell_type": "markdown",
   "id": "8e08fa8a",
   "metadata": {},
   "source": [
    "## [1] 주식선물외 선물"
   ]
  },
  {
   "cell_type": "code",
   "execution_count": 96,
   "id": "066fabb6",
   "metadata": {},
   "outputs": [],
   "source": [
    "detail_url = 'fut_bydd_trd'"
   ]
  },
  {
   "cell_type": "code",
   "execution_count": 97,
   "id": "0247eb59",
   "metadata": {},
   "outputs": [],
   "source": [
    "if not requests.get(f'{title_url}/{sub_url}/{detail_url}.{data_type}?basDd={basDd}', headers = headers).ok:\n",
    "    raise Exception()"
   ]
  },
  {
   "cell_type": "markdown",
   "id": "3838cbfd",
   "metadata": {},
   "source": [
    "## [2] KOSPI 선물"
   ]
  },
  {
   "cell_type": "code",
   "execution_count": 100,
   "id": "c8c30ef7",
   "metadata": {},
   "outputs": [],
   "source": [
    "detail_url = 'eqsfu_stk_bydd_trd'"
   ]
  },
  {
   "cell_type": "code",
   "execution_count": 107,
   "id": "9456d2a9",
   "metadata": {},
   "outputs": [],
   "source": [
    "if not requests.get(f'{title_url}/{sub_url}/{detail_url}.{data_type}?basDd={basDd}', headers = headers).ok:\n",
    "    raise Exception()"
   ]
  },
  {
   "cell_type": "markdown",
   "id": "b569cefc",
   "metadata": {},
   "source": [
    "## [3] KOSDAQ 선물"
   ]
  },
  {
   "cell_type": "code",
   "execution_count": 96,
   "id": "60590fec",
   "metadata": {},
   "outputs": [],
   "source": [
    "detail_url = 'eqkfu_ksq_bydd_trd'"
   ]
  },
  {
   "cell_type": "code",
   "execution_count": 97,
   "id": "e60dd43d",
   "metadata": {},
   "outputs": [],
   "source": [
    "if not requests.get(f'{title_url}/{sub_url}/{detail_url}.{data_type}?basDd={basDd}', headers = headers).ok:\n",
    "    raise Exception()"
   ]
  },
  {
   "cell_type": "markdown",
   "id": "709425d2",
   "metadata": {},
   "source": [
    "## [4] 주식선물외 옵션"
   ]
  },
  {
   "cell_type": "code",
   "execution_count": 96,
   "id": "1395df46",
   "metadata": {},
   "outputs": [],
   "source": [
    "detail_url = 'opt_bydd_trd'"
   ]
  },
  {
   "cell_type": "code",
   "execution_count": 97,
   "id": "6d931ed6",
   "metadata": {},
   "outputs": [],
   "source": [
    "if not requests.get(f'{title_url}/{sub_url}/{detail_url}.{data_type}?basDd={basDd}', headers = headers).ok:\n",
    "    raise Exception()"
   ]
  },
  {
   "cell_type": "markdown",
   "id": "61fea9a4",
   "metadata": {},
   "source": [
    "## [5] KOSPI 옵션"
   ]
  },
  {
   "cell_type": "code",
   "execution_count": 118,
   "id": "cbd560f5",
   "metadata": {},
   "outputs": [],
   "source": [
    "detail_url = 'eqsop_bydd_trd'"
   ]
  },
  {
   "cell_type": "code",
   "execution_count": 119,
   "id": "a34d6a3e",
   "metadata": {},
   "outputs": [],
   "source": [
    "if not requests.get(f'{title_url}/{sub_url}/{detail_url}?basDd={basDd}', headers = headers).ok:\n",
    "    raise Exception()"
   ]
  },
  {
   "cell_type": "markdown",
   "id": "fee45a24",
   "metadata": {},
   "source": [
    "## [6] KOSDAQ 옵션"
   ]
  },
  {
   "cell_type": "code",
   "execution_count": 115,
   "id": "8e63c24a",
   "metadata": {},
   "outputs": [],
   "source": [
    "detail_url = 'eqkop_bydd_trd'"
   ]
  },
  {
   "cell_type": "code",
   "execution_count": 117,
   "id": "c01ae4b1",
   "metadata": {},
   "outputs": [],
   "source": [
    "if not requests.get(f'{title_url}/{sub_url}/{detail_url}?basDd={basDd}', headers = headers).ok:\n",
    "    raise Exception()"
   ]
  },
  {
   "cell_type": "markdown",
   "id": "6484c534",
   "metadata": {},
   "source": [
    "- - -"
   ]
  },
  {
   "cell_type": "markdown",
   "id": "3b693085",
   "metadata": {},
   "source": [
    "# 6. 일반상품"
   ]
  },
  {
   "cell_type": "code",
   "execution_count": 123,
   "id": "7359f100",
   "metadata": {},
   "outputs": [],
   "source": [
    "sub_url = 'gen'"
   ]
  },
  {
   "cell_type": "markdown",
   "id": "d941597d",
   "metadata": {},
   "source": [
    "## [1] 석유"
   ]
  },
  {
   "cell_type": "code",
   "execution_count": 124,
   "id": "5e166058",
   "metadata": {},
   "outputs": [],
   "source": [
    "detail_url = 'oil_bydd_trd'"
   ]
  },
  {
   "cell_type": "code",
   "execution_count": 125,
   "id": "dce2eaed",
   "metadata": {},
   "outputs": [],
   "source": [
    "if not requests.get(f'{title_url}/{sub_url}/{detail_url}?basDd={basDd}', headers = headers).ok:\n",
    "    raise Exception()"
   ]
  },
  {
   "cell_type": "markdown",
   "id": "362dc6f4",
   "metadata": {},
   "source": [
    "## [2] 금"
   ]
  },
  {
   "cell_type": "code",
   "execution_count": 126,
   "id": "096c256c",
   "metadata": {},
   "outputs": [],
   "source": [
    "detail_url = 'gold_bydd_trd'"
   ]
  },
  {
   "cell_type": "code",
   "execution_count": 127,
   "id": "d5273c9f",
   "metadata": {},
   "outputs": [],
   "source": [
    "if not requests.get(f'{title_url}/{sub_url}/{detail_url}?basDd={basDd}', headers = headers).ok:\n",
    "    raise Exception()"
   ]
  },
  {
   "cell_type": "markdown",
   "id": "b35c289f",
   "metadata": {},
   "source": [
    "## [3] 배출권"
   ]
  },
  {
   "cell_type": "code",
   "execution_count": 128,
   "id": "392ae059",
   "metadata": {},
   "outputs": [],
   "source": [
    "detail_url = 'ets_bydd_trd'"
   ]
  },
  {
   "cell_type": "code",
   "execution_count": 129,
   "id": "7c3429aa",
   "metadata": {},
   "outputs": [],
   "source": [
    "if not requests.get(f'{title_url}/{sub_url}/{detail_url}?basDd={basDd}', headers = headers).ok:\n",
    "    raise Exception()"
   ]
  },
  {
   "cell_type": "markdown",
   "id": "0f6e30f5",
   "metadata": {},
   "source": [
    "- - -"
   ]
  },
  {
   "cell_type": "markdown",
   "id": "8325b57f",
   "metadata": {},
   "source": [
    "# 7. ESG"
   ]
  },
  {
   "cell_type": "code",
   "execution_count": 132,
   "id": "fc48236c",
   "metadata": {},
   "outputs": [],
   "source": [
    "sub_url = 'esg'"
   ]
  },
  {
   "cell_type": "markdown",
   "id": "c181c853",
   "metadata": {},
   "source": [
    "## [1] 사회책임투자채권"
   ]
  },
  {
   "cell_type": "code",
   "execution_count": 133,
   "id": "f64a1fbe",
   "metadata": {},
   "outputs": [],
   "source": [
    "detail_url = 'sri_bond_info'"
   ]
  },
  {
   "cell_type": "code",
   "execution_count": 134,
   "id": "8bf296b4",
   "metadata": {},
   "outputs": [],
   "source": [
    "if not requests.get(f'{title_url}/{sub_url}/{detail_url}?basDd={basDd}', headers = headers).ok:\n",
    "    raise Exception()"
   ]
  },
  {
   "cell_type": "markdown",
   "id": "dd58bbb7",
   "metadata": {},
   "source": [
    "- - -"
   ]
  }
 ],
 "metadata": {
  "kernelspec": {
   "display_name": "Python 3 (ipykernel)",
   "language": "python",
   "name": "python3"
  },
  "language_info": {
   "codemirror_mode": {
    "name": "ipython",
    "version": 3
   },
   "file_extension": ".py",
   "mimetype": "text/x-python",
   "name": "python",
   "nbconvert_exporter": "python",
   "pygments_lexer": "ipython3",
   "version": "3.12.1"
  }
 },
 "nbformat": 4,
 "nbformat_minor": 5
}
